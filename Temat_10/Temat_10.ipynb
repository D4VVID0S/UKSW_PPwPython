{
 "cells": [
  {
   "cell_type": "code",
   "execution_count": null,
   "id": "281bcd2a",
   "metadata": {},
   "outputs": [],
   "source": [
    "import numpy as np\n",
    "\n",
    "K = 3 # Wymiary\n",
    "J = 4 # Wiersze\n",
    "I = 8 # Kolumny\n",
    "\n",
    "a = np.random.randint(0, 10, size=(K, J, I))\n",
    "\n",
    "while True:\n",
    "    try:        \n",
    "        # Wczytanie tablicy tidx od użytkownika\n",
    "        tidx_str = input(\"Podaj indeksy dla tidx oddzielone spacjami: \")\n",
    "        tidx = [int(idx) for idx in tidx_str.split()]\n",
    "\n",
    "        # Sprawdzenie poprawności danych\n",
    "        if len(tidx) != J:\n",
    "            raise ValueError(\"Niepoprawna liczba indeksów. Podaj dokładnie 4 indeksy.\")\n",
    "        if not all(0 <= idx < K for idx in tidx):\n",
    "            raise ValueError(\"Niepoprawny indeks. Indeksy muszą być liczbami całkowitymi od 0 do\", K-1)\n",
    "\n",
    "        # Wyście z pętli, jeśli dane są poprawne\n",
    "        break\n",
    "\n",
    "    except ValueError as e:\n",
    "        print(\"Błąd:\", str(e))\n",
    "        print(\"Spróbuj ponownie.\")\n",
    "\n",
    "print(\"Originalna tablica:\\n\", a)\n",
    "print(\"\\nKształt:\", a.shape)\n",
    "\n",
    "tablica_wybranych_wierszy = np.random.randint(0, 10, size=(J, I))\n",
    "for i in range(4):\n",
    "    tablica_wybranych_wierszy[i, :] = a[: ,tidx, :]\n",
    "\n",
    "print(\"\\nTablica wybranych wierszy:\\n\", tablica_wybranych_wierszy)\n",
    "print(\"\\n\", \"Rozmiar tablicy wybranych wierszy:\", tablica_wybranych_wierszy.shape, \"\\n\")"
   ]
  },
  {
   "cell_type": "code",
   "execution_count": null,
   "id": "59c14054",
   "metadata": {},
   "outputs": [],
   "source": [
    "a = 10\n",
    "a"
   ]
  },
  {
   "cell_type": "code",
   "execution_count": null,
   "id": "fd4da4d1",
   "metadata": {},
   "outputs": [],
   "source": []
  }
 ],
 "metadata": {
  "kernelspec": {
   "display_name": "Python 3 (ipykernel)",
   "language": "python",
   "name": "python3"
  },
  "language_info": {
   "codemirror_mode": {
    "name": "ipython",
    "version": 3
   },
   "file_extension": ".py",
   "mimetype": "text/x-python",
   "name": "python",
   "nbconvert_exporter": "python",
   "pygments_lexer": "ipython3",
   "version": "3.10.8"
  }
 },
 "nbformat": 4,
 "nbformat_minor": 5
}
