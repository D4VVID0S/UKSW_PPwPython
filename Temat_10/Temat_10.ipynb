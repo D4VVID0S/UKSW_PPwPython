{
 "cells": [
  {
   "cell_type": "code",
   "execution_count": 1,
   "id": "281bcd2a",
   "metadata": {},
   "outputs": [],
   "source": [
    "import numpy as np"
   ]
  },
  {
   "cell_type": "code",
   "execution_count": 1,
   "id": "59c14054",
   "metadata": {},
   "outputs": [
    {
     "ename": "SyntaxError",
     "evalue": "invalid syntax. Perhaps you forgot a comma? (1231719104.py, line 7)",
     "output_type": "error",
     "traceback": [
      "\u001b[0;36m  Cell \u001b[0;32mIn[1], line 7\u001b[0;36m\u001b[0m\n\u001b[0;31m    a = np.array([[[3 2 2 7 7 7 0 3]\u001b[0m\n\u001b[0m                    ^\u001b[0m\n\u001b[0;31mSyntaxError\u001b[0m\u001b[0;31m:\u001b[0m invalid syntax. Perhaps you forgot a comma?\n"
     ]
    }
   ],
   "source": [
    "# Wymiary tablicy\n",
    "K = 3 # Wymiar\n",
    "J = 4 # Wiersze\n",
    "I = 8 # Kolumny\n",
    "\n",
    "# Utworzenie pustej tablicy o wymiaracj (K, J, I)\n",
    "a = np.array([[[3, 2, 2, 7, 7, 7, 0, 3],\n",
    "               [5, 8, 4, 2, 9, 9, 3, 9],\n",
    "               [6, 8, 2, 8, 5, 7, 8, 7],\n",
    "               [5, 2, 4, 0, 4, 9, 2, 5]],\n",
    "\n",
    "              [[4, 3, 1, 8, 2, 5, 2, 0],\n",
    "               [9, 1, 5, 8, 8, 5, 6, 5],\n",
    "               [3, 2, 2, 0, 1, 5, 6, 1],\n",
    "               [5, 1, 9, 4, 2, 6, 9, 2]],\n",
    "\n",
    "              [[4, 6, 6, 3, 8, 6, 8, 8],\n",
    "               [3, 9, 2, 6, 3, 3, 1, 0],\n",
    "               [5, 4, 0, 6, 0, 2, 7, 8],\n",
    "               [6, 3, 1, 8, 8, 1, 5, 7]]])\n",
    "\n",
    "# Wypełnienie tablicy losowymi liczbami całkowitymi od 0 do 9\n",
    "a = np.random.randint(0, 10, size=(K, J, I))\n",
    "\n",
    "while True:\n",
    "    try:        \n",
    "        # Wczytanie tablicy tidx od użytkownika\n",
    "        tidx_str = input(\"Podaj indeksy dla tidx oddzielone spacjami: \")\n",
    "        tidx = [int(idx) for idx in tidx_str.split()]\n",
    "\n",
    "        # Sprawdzenie poprawności danych\n",
    "        if len(tidx) != J:\n",
    "            raise ValueError(\"Niepoprawna liczba indeksów. Podaj dokładnie 4 indeksy.\")\n",
    "        if not all(0 <= idx < K for idx in tidx):\n",
    "            raise ValueError(\"Niepoprawny indeks. Indeksy muszą być liczbami całkowitymi od 0 do\", K-1)\n",
    "\n",
    "        # Wyście z pętli, jeśli dane są poprawne\n",
    "        break\n",
    "\n",
    "    except ValueError as e:\n",
    "        print(\"Błąd:\", str(e))\n",
    "        print(\"Spróbuj ponownie.\")\n",
    "\n",
    "print(\"Originalna tablica:\\n\", a)\n",
    "# print(\"\\nKształt:\", a.shape)\n",
    "\n",
    "tablica_wybranych_wierszy = np.zeros((K, J, I), dtype=int)\n",
    "\n",
    "for idx in tidx:\n",
    "    tablica_wybranych_wierszy = a[tidx,idx,:]\n",
    "\n",
    "\n",
    "print(\"\\nTablica wybranych wierszy:\\n\", tablica_wybranych_wierszy)"
   ]
  },
  {
   "cell_type": "code",
   "execution_count": null,
   "id": "fd4da4d1",
   "metadata": {},
   "outputs": [],
   "source": []
  }
 ],
 "metadata": {
  "kernelspec": {
   "display_name": "Python 3 (ipykernel)",
   "language": "python",
   "name": "python3"
  },
  "language_info": {
   "codemirror_mode": {
    "name": "ipython",
    "version": 3
   },
   "file_extension": ".py",
   "mimetype": "text/x-python",
   "name": "python",
   "nbconvert_exporter": "python",
   "pygments_lexer": "ipython3",
   "version": "3.10.8"
  }
 },
 "nbformat": 4,
 "nbformat_minor": 5
}
